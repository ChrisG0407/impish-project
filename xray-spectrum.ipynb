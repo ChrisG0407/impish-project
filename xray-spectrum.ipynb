{
 "cells": [
  {
   "cell_type": "code",
   "execution_count": 2,
   "id": "3a42ba2c-c767-42be-a91e-0de40ec286aa",
   "metadata": {},
   "outputs": [
    {
     "name": "stderr",
     "output_type": "stream",
     "text": [
      "/usr/lib/python3/dist-packages/scipy/__init__.py:146: UserWarning: A NumPy version >=1.17.3 and <1.25.0 is required for this version of SciPy (detected version 1.25.1\n",
      "  warnings.warn(f\"A NumPy version >={np_minversion} and <{np_maxversion}\"\n"
     ]
    },
    {
     "data": {
      "text/html": [
       "<style type='text/css'>\n",
       ".datatable table.frame { margin-bottom: 0; }\n",
       ".datatable table.frame thead { border-bottom: none; }\n",
       ".datatable table.frame tr.coltypes td {  color: #FFFFFF;  line-height: 6px;  padding: 0 0.5em;}\n",
       ".datatable .bool    { background: #DDDD99; }\n",
       ".datatable .object  { background: #565656; }\n",
       ".datatable .int     { background: #5D9E5D; }\n",
       ".datatable .float   { background: #4040CC; }\n",
       ".datatable .str     { background: #CC4040; }\n",
       ".datatable .time    { background: #40CC40; }\n",
       ".datatable .row_index {  background: var(--jp-border-color3);  border-right: 1px solid var(--jp-border-color0);  color: var(--jp-ui-font-color3);  font-size: 9px;}\n",
       ".datatable .frame tbody td { text-align: left; }\n",
       ".datatable .frame tr.coltypes .row_index {  background: var(--jp-border-color0);}\n",
       ".datatable th:nth-child(2) { padding-left: 12px; }\n",
       ".datatable .hellipsis {  color: var(--jp-cell-editor-border-color);}\n",
       ".datatable .vellipsis {  background: var(--jp-layout-color0);  color: var(--jp-cell-editor-border-color);}\n",
       ".datatable .na {  color: var(--jp-cell-editor-border-color);  font-size: 80%;}\n",
       ".datatable .sp {  opacity: 0.25;}\n",
       ".datatable .footer { font-size: 9px; }\n",
       ".datatable .frame_dimensions {  background: var(--jp-border-color3);  border-top: 1px solid var(--jp-border-color0);  color: var(--jp-ui-font-color3);  display: inline-block;  opacity: 0.6;  padding: 1px 10px 1px 5px;}\n",
       "</style>\n"
      ],
      "text/plain": [
       "<IPython.core.display.HTML object>"
      ]
     },
     "metadata": {},
     "output_type": "display_data"
    }
   ],
   "source": [
    "import numpy as np\n",
    "from io import StringIO\n",
    "import matplotlib.pyplot as plt\n",
    "import pandas as pd\n",
    "import os\n",
    "import seaborn as sns\n",
    "import glob\n",
    "from matplotlib.patches import Patch\n",
    "from matplotlib.lines import Line2D\n",
    "from scipy import stats\n",
    "import datatable as dt"
   ]
  },
  {
   "cell_type": "code",
   "execution_count": 3,
   "id": "b054992a-f3a3-4f9c-b097-6dd6dc8fb90a",
   "metadata": {},
   "outputs": [],
   "source": [
    "script_dir = os.path.dirname(r'/home/argo/data/' )\n",
    "results_dir = os.path.join(script_dir, 'Results/')\n",
    "\n",
    "if not os.path.isdir(results_dir):\n",
    "    os.makedirs(results_dir)"
   ]
  },
  {
   "cell_type": "code",
   "execution_count": 40,
   "id": "fd0cf3d7-69a6-4328-b816-cc9933cbb2e0",
   "metadata": {},
   "outputs": [
    {
     "name": "stdout",
     "output_type": "stream",
     "text": [
      "        Energy    y\n",
      "0      30.0000 -1.0\n",
      "1      30.0000 -1.0\n",
      "2      30.0000 -1.0\n",
      "3      29.8697 -1.0\n",
      "4      30.0000 -1.0\n",
      "...        ...  ...\n",
      "91522  30.0000 -1.0\n",
      "91523  30.0000 -1.0\n",
      "91524  30.0000 -1.0\n",
      "91525  30.0000 -1.0\n",
      "91526  30.0000 -1.0\n",
      "\n",
      "[91527 rows x 2 columns]\n"
     ]
    }
   ],
   "source": [
    "f = open(\"/home/argo/IMPISH/Data/xray_beam/cryst-out30.tab\", \"r\")\n",
    "data = f.read()\n",
    "#print (data)\n",
    "\n",
    "data = data.replace(\" \", \",\") #Adds in a comma separater in front of the multiple 1s\n",
    "data = data.replace(\",\", \", \") #Adds in space for the data\n",
    "dat = np.loadtxt(StringIO(data), dtype=float, delimiter=\",\")\n",
    "#print(dat.shape)\n",
    "#print(dat)\n",
    "\n",
    "hist_values = [\"Energy\", \"y\"]\n",
    "\n",
    "df = pd.DataFrame(data = dat, columns = hist_values)\n",
    "print(df)"
   ]
  },
  {
   "cell_type": "code",
   "execution_count": 43,
   "id": "e73917a0-5baf-4f04-b78b-c2d6ee2d3ec3",
   "metadata": {},
   "outputs": [
    {
     "data": {
      "text/plain": [
       "array([[<AxesSubplot:title={'center':'Energy'}>]], dtype=object)"
      ]
     },
     "execution_count": 43,
     "metadata": {},
     "output_type": "execute_result"
    },
    {
     "data": {
      "image/png": "[encoded data removed]",
      "text/plain": [
       "<Figure size 640x480 with 1 Axes>"
      ]
     },
     "metadata": {},
     "output_type": "display_data"
    }
   ],
   "source": [
    "df.hist(column = \"Energy\", bins = 100)"
   ]
  },
  {
   "cell_type": "code",
   "execution_count": 4,
   "id": "cbba0057-e428-4d13-a0c8-b8477aaa828a",
   "metadata": {},
   "outputs": [],
   "source": [
    "folder_path = r'/home/argo/IMPISH/Data/xray_beam/'\n",
    "\n",
    "def xray_tab_combiner(input_directory, output_file):\n",
    "    headers = []\n",
    "    rows = []\n",
    "\n",
    "    #Iterates through all the files in the input directory\n",
    "    for file_name in os.listdir(input_directory):\n",
    "        if file_name.endswith('.tab'):\n",
    "            file_path = os.path.join(input_directory, file_name)\n",
    "\n",
    "            with open(file_path, 'r', encoding = 'utf-8') as file:\n",
    "                lines = file.readlines()\n",
    "                if lines:\n",
    "                    #Will store the header from the first file\n",
    "                    if not headers:\n",
    "                        headers = lines[0].strip().split('\\t')\n",
    "                        rows.append('\\t'.join(headers))\n",
    "                    #Skips the lines in subsequent files (Change to 0 if your files dont have a header)\n",
    "                    data_lines = lines[0:]\n",
    "                    rows.extend(data_lines)\n",
    "\n",
    "    #Writes all rows to an output file\n",
    "    with open(output_file, 'w', encoding = 'utf-8') as output:\n",
    "        output.writelines(rows)\n",
    "\n"
   ]
  },
  {
   "cell_type": "code",
   "execution_count": 6,
   "id": "d514d146-5d53-4d1b-9b88-1f8b565ad930",
   "metadata": {},
   "outputs": [],
   "source": [
    "xray_tab_combiner(folder_path, 'xrays_combined.tab')"
   ]
  },
  {
   "cell_type": "code",
   "execution_count": 7,
   "id": "f79bc86a-f189-4244-b3e0-f17473c7fd86",
   "metadata": {},
   "outputs": [
    {
     "name": "stdout",
     "output_type": "stream",
     "text": [
      "           Energy    y\n",
      "0         6.00000 -1.0\n",
      "1         6.00000 -1.0\n",
      "2         6.00000 -1.0\n",
      "3         6.00000 -1.0\n",
      "4         6.00000 -1.0\n",
      "...           ...  ...\n",
      "1144566   2.74751 -1.0\n",
      "1144567  26.00000 -1.0\n",
      "1144568  26.00000 -1.0\n",
      "1144569  26.00000 -1.0\n",
      "1144570  26.00000 -1.0\n",
      "\n",
      "[1144571 rows x 2 columns]\n"
     ]
    }
   ],
   "source": [
    "f = open(\"/home/argo/IMPISH/Data/xray_beam/xrays_combined.tab\", \"r\")\n",
    "data = f.read()\n",
    "#print (data)\n",
    "\n",
    "data = data.replace(\" \", \",\") #Adds in a comma separater in front of the multiple 1s\n",
    "data = data.replace(\",\", \", \") #Adds in space for the data\n",
    "dat = np.loadtxt(StringIO(data), dtype=float, delimiter=\",\")\n",
    "#print(dat.shape)\n",
    "#print(dat)\n",
    "\n",
    "hist_values = [\"Energy\", \"y\"]\n",
    "\n",
    "df = pd.DataFrame(data = dat, columns = hist_values)\n",
    "print(df)"
   ]
  },
  {
   "cell_type": "code",
   "execution_count": 9,
   "id": "36515d08-571e-4f6f-b970-f7d6387558b4",
   "metadata": {},
   "outputs": [
    {
     "data": {
      "text/plain": [
       "array([[<AxesSubplot:title={'center':'Energy'}>]], dtype=object)"
      ]
     },
     "execution_count": 9,
     "metadata": {},
     "output_type": "execute_result"
    },
    {
     "data": {
      "image/png": "[encoded data removed]",
      "text/plain": [
       "<Figure size 640x480 with 1 Axes>"
      ]
     },
     "metadata": {},
     "output_type": "display_data"
    }
   ],
   "source": [
    "df.hist(column = \"Energy\", bins = 50)"
   ]
  },
  {
   "cell_type": "code",
   "execution_count": 11,
   "id": "4682ec37-f96e-4fec-b351-df70f74e392e",
   "metadata": {},
   "outputs": [],
   "source": [
    "def find_and_combine_tab_files(root_directory, file_name, output_file):\n",
    "    headers = []\n",
    "    rows = []\n",
    "    header_written = False\n",
    "\n",
    "    for dirpath, dirnames, filenames in os.walk(root_directory):\n",
    "        if file_name in filenames:\n",
    "            file_path = os.path.join(dirpath, file_name)\n",
    "            with open(file_path, 'r', encoding='utf-8') as file:\n",
    "                lines = file.readlines()\n",
    "                if lines:\n",
    "                    if not header_written:\n",
    "                        headers = lines[0].strip()\n",
    "                        rows.append(headers)\n",
    "                        header_written = True\n",
    "                    rows.extend(lines[0:])\n",
    "    \n",
    "    with open(output_file, 'w', encoding='utf-8') as output:\n",
    "        output.writelines(rows)"
   ]
  },
  {
   "cell_type": "code",
   "execution_count": 12,
   "id": "6b95494f-d72a-4486-912c-24a168ba3dcb",
   "metadata": {},
   "outputs": [],
   "source": [
    "root_directory = r'/home/argo/IMPISH/Data/xray_beam/xray_beam_run/'\n",
    "file_name = 'cryst-out.tab'\n",
    "output_file = r'/home/argo/IMPISH/Data/xray_beam/xray_beam_run/xray-energies.tab'\n",
    "\n",
    "find_and_combine_tab_files(root_directory, file_name, output_file)"
   ]
  },
  {
   "cell_type": "code",
   "execution_count": 13,
   "id": "4456990a-7a4a-4873-80d9-03f4c67b0347",
   "metadata": {},
   "outputs": [],
   "source": [
    "xray_tab_combiner(r'/home/argo/IMPISH/Data/xray_beam/xray_beam_run/', 'total-xray.tab')"
   ]
  },
  {
   "cell_type": "code",
   "execution_count": 15,
   "id": "eb3f226e-fe4c-4bb9-8c3b-ee984b1f5908",
   "metadata": {},
   "outputs": [
    {
     "name": "stdout",
     "output_type": "stream",
     "text": [
      "           Energy    y\n",
      "0        40.00000 -1.0\n",
      "1        40.00000 -1.0\n",
      "2        40.00000 -1.0\n",
      "3        40.00000 -1.0\n",
      "4        40.00000 -1.0\n",
      "...           ...  ...\n",
      "2709209   2.74751 -1.0\n",
      "2709210  26.00000 -1.0\n",
      "2709211  26.00000 -1.0\n",
      "2709212  26.00000 -1.0\n",
      "2709213  26.00000 -1.0\n",
      "\n",
      "[2709214 rows x 2 columns]\n"
     ]
    }
   ],
   "source": [
    "f = open(\"/home/argo/IMPISH/Data/xray_beam/xray_beam_run/total-xray.tab\", \"r\")\n",
    "data = f.read()\n",
    "#print (data)\n",
    "\n",
    "data = data.replace(\" \", \",\") #Adds in a comma separater in front of the multiple 1s\n",
    "data = data.replace(\",\", \", \") #Adds in space for the data\n",
    "dat = np.loadtxt(StringIO(data), dtype=float, delimiter=\",\")\n",
    "#print(dat.shape)\n",
    "#print(dat)\n",
    "\n",
    "hist_values = [\"Energy\", \"y\"]\n",
    "\n",
    "df = pd.DataFrame(data = dat, columns = hist_values)\n",
    "print(df)"
   ]
  },
  {
   "cell_type": "code",
   "execution_count": 16,
   "id": "7fad50a9-5223-41a2-940c-032b4b4081ac",
   "metadata": {},
   "outputs": [
    {
     "data": {
      "text/plain": [
       "array([[<AxesSubplot:title={'center':'Energy'}>]], dtype=object)"
      ]
     },
     "execution_count": 16,
     "metadata": {},
     "output_type": "execute_result"
    },
    {
     "data": {
      "image/png": "[encoded data removed]",
      "text/plain": [
       "<Figure size 640x480 with 1 Axes>"
      ]
     },
     "metadata": {},
     "output_type": "display_data"
    }
   ],
   "source": [
    "df.hist(column = \"Energy\", bins = 100, )"
   ]
  },
  {
   "cell_type": "code",
   "execution_count": 20,
   "id": "c33a8563-9de8-4659-aac0-528ff1920385",
   "metadata": {},
   "outputs": [
    {
     "data": {
      "image/png": "[encoded data removed]",
      "text/plain": [
       "<Figure size 640x480 with 1 Axes>"
      ]
     },
     "metadata": {},
     "output_type": "display_data"
    }
   ],
   "source": [
    "plt.hist(df['Energy'], bins = 70, histtype = 'step', edgecolor = 'blue')\n",
    "\n",
    "plt.xlabel('Energy (keV)')\n",
    "plt.ylabel('Counts')\n",
    "plt.title('X-ray Spectrum for GAGG Rod')\n",
    "\n",
    "plt.show()"
   ]
  },
  {
   "cell_type": "code",
   "execution_count": null,
   "id": "049cb4a8-7260-423f-9b8d-282ff0b8bcf0",
   "metadata": {},
   "outputs": [],
   "source": [
    "#Need to make it "
   ]
  }
 ],
 "metadata": {
  "kernelspec": {
   "display_name": "Python 3 (ipykernel)",
   "language": "python",
   "name": "python3"
  },
  "language_info": {
   "codemirror_mode": {
    "name": "ipython",
    "version": 3
   },
   "file_extension": ".py",
   "mimetype": "text/x-python",
   "name": "python",
   "nbconvert_exporter": "python",
   "pygments_lexer": "ipython3",
   "version": "3.10.12"
  }
 },
 "nbformat": 4,
 "nbformat_minor": 5
}
